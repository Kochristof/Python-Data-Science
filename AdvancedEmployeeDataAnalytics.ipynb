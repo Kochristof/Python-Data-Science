{
  "nbformat": 4,
  "nbformat_minor": 0,
  "metadata": {
    "colab": {
      "provenance": [],
      "authorship_tag": "ABX9TyOchu2dc+FBJZh9wyOv6ghB"
    },
    "kernelspec": {
      "name": "python3",
      "display_name": "Python 3"
    },
    "language_info": {
      "name": "python"
    }
  },
  "cells": [
    {
      "cell_type": "markdown",
      "source": [
        "# Advanced Employee Data Analysis With Python\n",
        "\n",
        "-- Subquery: select employees who left and meet the first set of filters\n",
        "SELECT *\n",
        "FROM (\n",
        "    SELECT *\n",
        "    FROM employee_attrition\n",
        "    WHERE Attrition = 'Yes'\n",
        "      AND YearsAtCompany < 10\n",
        "      AND MonthlyIncome BETWEEN 2000 AND 15000\n",
        "      AND JobRole IN ('Sales Executive', 'Research Scientist', 'Laboratory Technician')\n",
        ") AS filtered_initial\n",
        "-- Additional filtering\n",
        "WHERE Age BETWEEN 25 AND 45\n",
        "  AND PerformanceRating >= 3;"
      ],
      "metadata": {
        "id": "G7zWx_yTC-u1"
      }
    },
    {
      "cell_type": "code",
      "execution_count": 1,
      "metadata": {
        "id": "egD-92Iz0UJt"
      },
      "outputs": [],
      "source": [
        "import pandas as pd\n",
        "import numpy as np\n",
        "import matplotlib.pyplot as plt\n",
        "import seaborn as sns\n"
      ]
    },
    {
      "cell_type": "code",
      "source": [
        "numeric_columns = [\n",
        "    'Age', 'DailyRate', 'DistanceFromHome', 'MonthlyIncome',\n",
        "    'NumCompaniesWorked', 'PercentSalaryHike', 'TotalWorkingYears',\n",
        "    'TrainingTimesLastYear', 'YearsAtCompany', 'YearsInCurrentRole',\n",
        "    'YearsSinceLastPromotion', 'YearsWithCurrManager'\n",
        "]\n",
        "\n",
        "df_numeric = df[numeric_columns]\n"
      ],
      "metadata": {
        "colab": {
          "base_uri": "https://localhost:8080/",
          "height": 183
        },
        "id": "5qO1_2t6Dqvr",
        "outputId": "6f683e4e-838e-4913-dce4-feb5c887b3e4"
      },
      "execution_count": 2,
      "outputs": [
        {
          "output_type": "error",
          "ename": "NameError",
          "evalue": "name 'df' is not defined",
          "traceback": [
            "\u001b[0;31m---------------------------------------------------------------------------\u001b[0m",
            "\u001b[0;31mNameError\u001b[0m                                 Traceback (most recent call last)",
            "\u001b[0;32m<ipython-input-2-f8cce1593d2a>\u001b[0m in \u001b[0;36m<cell line: 0>\u001b[0;34m()\u001b[0m\n\u001b[1;32m      6\u001b[0m ]\n\u001b[1;32m      7\u001b[0m \u001b[0;34m\u001b[0m\u001b[0m\n\u001b[0;32m----> 8\u001b[0;31m \u001b[0mdf_numeric\u001b[0m \u001b[0;34m=\u001b[0m \u001b[0mdf\u001b[0m\u001b[0;34m[\u001b[0m\u001b[0mnumeric_columns\u001b[0m\u001b[0;34m]\u001b[0m\u001b[0;34m\u001b[0m\u001b[0;34m\u001b[0m\u001b[0m\n\u001b[0m",
            "\u001b[0;31mNameError\u001b[0m: name 'df' is not defined"
          ]
        }
      ]
    },
    {
      "cell_type": "code",
      "source": [
        "# Drop rows with missing values (if any)\n",
        "df_numeric_clean = df_numeric.dropna()\n",
        "\n",
        "# Compute correlation matrix using NumPy\n",
        "correlation_matrix = df_numeric_clean.corr()\n"
      ],
      "metadata": {
        "colab": {
          "base_uri": "https://localhost:8080/",
          "height": 220
        },
        "id": "TWJeDqaPDsWH",
        "outputId": "89ad6101-ed40-479c-a440-3da7aa63f5de"
      },
      "execution_count": 3,
      "outputs": [
        {
          "output_type": "error",
          "ename": "NameError",
          "evalue": "name 'df_numeric' is not defined",
          "traceback": [
            "\u001b[0;31m---------------------------------------------------------------------------\u001b[0m",
            "\u001b[0;31mNameError\u001b[0m                                 Traceback (most recent call last)",
            "\u001b[0;32m<ipython-input-3-e3e4be76264e>\u001b[0m in \u001b[0;36m<cell line: 0>\u001b[0;34m()\u001b[0m\n\u001b[1;32m      1\u001b[0m \u001b[0;31m# Drop rows with missing values (if any)\u001b[0m\u001b[0;34m\u001b[0m\u001b[0;34m\u001b[0m\u001b[0m\n\u001b[0;32m----> 2\u001b[0;31m \u001b[0mdf_numeric_clean\u001b[0m \u001b[0;34m=\u001b[0m \u001b[0mdf_numeric\u001b[0m\u001b[0;34m.\u001b[0m\u001b[0mdropna\u001b[0m\u001b[0;34m(\u001b[0m\u001b[0;34m)\u001b[0m\u001b[0;34m\u001b[0m\u001b[0;34m\u001b[0m\u001b[0m\n\u001b[0m\u001b[1;32m      3\u001b[0m \u001b[0;34m\u001b[0m\u001b[0m\n\u001b[1;32m      4\u001b[0m \u001b[0;31m# Compute correlation matrix using NumPy\u001b[0m\u001b[0;34m\u001b[0m\u001b[0;34m\u001b[0m\u001b[0m\n\u001b[1;32m      5\u001b[0m \u001b[0mcorrelation_matrix\u001b[0m \u001b[0;34m=\u001b[0m \u001b[0mdf_numeric_clean\u001b[0m\u001b[0;34m.\u001b[0m\u001b[0mcorr\u001b[0m\u001b[0;34m(\u001b[0m\u001b[0;34m)\u001b[0m\u001b[0;34m\u001b[0m\u001b[0;34m\u001b[0m\u001b[0m\n",
            "\u001b[0;31mNameError\u001b[0m: name 'df_numeric' is not defined"
          ]
        }
      ]
    },
    {
      "cell_type": "code",
      "source": [
        "plt.figure(figsize=(12, 10))\n",
        "sns.heatmap(\n",
        "    correlation_matrix,\n",
        "    annot=True,\n",
        "    cmap='coolwarm',\n",
        "    fmt=\".2f\",\n",
        "    linewidths=0.5,\n",
        "    square=True\n",
        ")\n",
        "plt.title('Correlation Heatmap of Numeric Employee Attributes')\n",
        "plt.xticks(rotation=45, ha='right')\n",
        "plt.yticks(rotation=0)\n",
        "plt.tight_layout()\n",
        "plt.show()\n"
      ],
      "metadata": {
        "id": "Hdajp3yfDvLh"
      },
      "execution_count": null,
      "outputs": []
    },
    {
      "cell_type": "code",
      "source": [
        "import pandas as pd\n",
        "import matplotlib.pyplot as plt\n",
        "import seaborn as sns\n",
        "\n",
        "# Load the filtered dataset (replace path if necessary)\n",
        "filtered_df = pd.read_csv('/mnt/data/filtered_employee_attrition.csv')\n",
        "\n",
        "# Filter for specific job roles and departments\n",
        "filtered_trend_df = filtered_df[\n",
        "    (filtered_df['JobRole'].isin(['Sales Executive', 'Research Scientist', 'Laboratory Technician'])) &\n",
        "    (filtered_df['Department'].isin(['Sales', 'Research & Development']))\n",
        "]\n",
        "\n",
        "# Group and aggregate data\n",
        "grouped = filtered_trend_df.groupby(['YearsAtCompany', 'JobRole', 'Department']).agg(\n",
        "    mean_income=('MonthlyIncome', 'mean'),\n",
        "    std_income=('MonthlyIncome', 'std'),\n",
        "    count=('MonthlyIncome', 'count')\n",
        ").reset_index()\n",
        "\n",
        "# Keep only groups with at least 5 employees\n",
        "grouped_reliable = grouped[grouped['count'] >= 5]\n",
        "\n",
        "# Set Seaborn style\n",
        "sns.set(style=\"whitegrid\")\n",
        "\n",
        "# Create the line chart with error bars\n",
        "plt.figure(figsize=(14, 8))\n",
        "\n",
        "# Plot for each (JobRole, Department) group\n",
        "for (job_role, dept), group_data in grouped_reliable.groupby(['JobRole', 'Department']):\n",
        "    plt.errorbar(\n",
        "        group_data['YearsAtCompany'],\n",
        "        group_data['mean_income'],\n",
        "        yerr=group_data['std_income'],\n",
        "        label=f'{job_role} - {dept}',\n",
        "        marker='o',\n",
        "        capsize=5\n",
        "    )\n",
        "\n",
        "# Plot customization\n",
        "plt.title('Trend of Monthly Income Over Years at Company by Job Role and Department')\n",
        "plt.xlabel('Years at Company')\n",
        "plt.ylabel('Average Monthly Income')\n",
        "plt.legend(title='Job Role - Department')\n",
        "plt.grid(True)\n",
        "plt.tight_layout()\n",
        "plt.show()\n"
      ],
      "metadata": {
        "id": "GArF8_u_EGck"
      },
      "execution_count": null,
      "outputs": []
    },
    {
      "cell_type": "code",
      "source": [
        "import pandas as pd\n",
        "import numpy as np\n",
        "import plotly.graph_objects as go\n",
        "\n",
        "# Load your filtered dataset (adjust path if needed)\n",
        "filtered_df = pd.read_csv('filtered_employee_attrition.csv')\n",
        "\n",
        "# Filter relevant columns and drop missing values\n",
        "df_3d = filtered_df[['Age', 'TotalWorkingYears', 'MonthlyIncome']].dropna()\n",
        "\n",
        "# Prepare variables\n",
        "X1 = df_3d['Age']\n",
        "X2 = df_3d['TotalWorkingYears']\n",
        "Y = df_3d['MonthlyIncome']\n",
        "\n",
        "# Create design matrix (Age, TotalWorkingYears, Intercept)\n",
        "X = np.column_stack((X1, X2, np.ones_like(X1)))\n",
        "\n",
        "# Perform multiple linear regression\n",
        "coeffs, _, _, _ = np.linalg.lstsq(X, Y, rcond=None)\n",
        "a, b, c = coeffs\n",
        "\n",
        "# Create grid for Age and TotalWorkingYears\n",
        "age_range = np.linspace(X1.min(), X1.max(), 20)\n",
        "tw_range = np.linspace(X2.min(), X2.max(), 20)\n",
        "age_grid, tw_grid = np.meshgrid(age_range, tw_range)\n",
        "\n",
        "# Calculate regression plane\n",
        "z_plane = a * age_grid + b * tw_grid + c\n",
        "\n",
        "# Create 3D scatter plot\n",
        "scatter = go.Scatter3d(\n",
        "    x=X1,\n",
        "    y=X2,\n",
        "    z=Y,\n",
        "    mode='markers',\n",
        "    marker=dict(\n",
        "        size=5,\n",
        "        color=Y,\n",
        "        colorscale='Viridis',\n",
        "        colorbar=dict(title='MonthlyIncome'),\n",
        "        opacity=0.8\n",
        "    ),\n",
        "    name='Employees'\n",
        ")\n",
        "\n",
        "# Add regression plane\n",
        "plane = go.Surface(\n",
        "    x=age_grid,\n",
        "    y=tw_grid,\n",
        "    z=z_plane,\n",
        "    colorscale='Reds',\n",
        "    opacity=0.6,\n",
        "    showscale=False,\n",
        "    name='Regression Plane'\n",
        ")\n",
        "\n",
        "# Layout customization\n",
        "layout = go.Layout(\n",
        "    title='3D Scatter Plot with Regression Plane',\n",
        "    scene=dict(\n",
        "        xaxis_title='Age',\n",
        "        yaxis_title='Total Working Years',\n",
        "        zaxis_title='Monthly Income'\n",
        "    ),\n",
        "    margin=dict(l=0, r=0, b=0, t=50)\n",
        ")\n",
        "\n",
        "# Create and show the figure\n",
        "fig = go.Figure(data=[scatter, plane], layout=layout)\n",
        "fig.show()\n"
      ],
      "metadata": {
        "id": "bn0liJDFEMpy"
      },
      "execution_count": null,
      "outputs": []
    }
  ]
}